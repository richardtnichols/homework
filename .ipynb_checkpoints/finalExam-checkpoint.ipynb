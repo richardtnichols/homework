{
 "cells": [
  {
   "cell_type": "markdown",
   "metadata": {},
   "source": [
    "## Final Exam due Thursday, April 28, at 11:59 pm"
   ]
  },
  {
   "cell_type": "markdown",
   "metadata": {},
   "source": [
    "Rename this file to LastnameFirstnameFinalExam before uploading it to Blackboard\n",
    "\n",
    "Important:  You are not allowed to communicate with any human other than the instructor about this exam."
   ]
  },
  {
   "cell_type": "markdown",
   "metadata": {},
   "source": [
    "1\\.  \"In 2007, a university study was published investigating the crash risk of alcohol impaired driving. Data from 2,871 crashes were used to measure the association of a person’s blood alcohol level (BAC) with the risk of being in an accident. The table below shows results from the study.[1] The relative risk is a measure of how many times more likely a person is to crash. So, for example, a person with a BAC of 0.09 is 3.54 times as likely to crash as a person who has not been drinking alcohol.\"[2]\n",
    "\n",
    "Produce a scatterplot for the data pairs below.  They are (blood alcohol level, risk of accident).  You should see the data produce what might be an exponential curve as their relationship.  Give the plot an appropriate title and axes labels.\n",
    "\n",
    "1\\.  Source: Indiana University Center for Studies of Law in Action, 2007\n",
    "\n",
    "2\\.  Precalculus. Authored by: Jay Abramson, et al.. Provided by: OpenStax. Located at: http://cnx.org/contents/fd53eae1-fa23-47c7-bb1b-972349835c3c@5.175. License: CC BY: Attribution. License Terms: Download For Free at : http://cnx.org/contents/fd53eae1-fa23-47c7-bb1b-972349835c3c@5.175.\n",
    "\n"
   ]
  },
  {
   "cell_type": "code",
   "execution_count": 12,
   "metadata": {},
   "outputs": [
    {
     "data": {
      "image/png": "[encoded data removed]",
      "text/plain": [
       "<Figure size 432x288 with 1 Axes>"
      ]
     },
     "metadata": {
      "needs_background": "light"
     },
     "output_type": "display_data"
    }
   ],
   "source": [
    "import matplotlib.pyplot as plt\n",
    "\n",
    "baData = [(0, 1), (0.01, 1.03), (0.03, 1.06), (0.05, 1.38), (0.07, 2.09), (0.09, 3.54), \n",
    "          (0.11, 6.41), (0.13, 12.6), (0.15, 22.1), (0.17, 39.05), (0.19, 65.32), (0.21, 99.78)]\n",
    "\n",
    "x, y = ([],[])\n",
    "\n",
    "for a in baData:\n",
    "    x.append(a[0])\n",
    "for a in baData:\n",
    "    y.append(a[1])\n",
    "    \n",
    "plt.plot()\n",
    "plt.scatter(x, y)\n",
    "plt.grid()\n",
    "plt.title(\"Blood Alcohol Level vs. Risk of Being in an Accident\")\n",
    "plt.xlabel(\"BAC (%)\")\n",
    "plt.ylabel(\"Risk of Accident (%)\")\n",
    "plt.show()\n"
   ]
  },
  {
   "cell_type": "markdown",
   "metadata": {},
   "source": [
    "2\\.  This problem will illustrate a phenomenon called Simpson's paradox in probability and statistics in which a trend appears in several groups of data but disappears or reverses when the groups are combined.  The data below give a treatment type of A or B, a condition type of 1 or 2, and a response to treatment which is a number between -2 and 10.  Lower numbers show less response to treatment and larger numbers show more response to treatment.\n",
    "\n",
    "Produce two separate graphics of the data.  The first should give two box plots, one showing responses for all treatment A and the other showing responses for all treatment B.  Give the graphic a title of \"Responses by treatment only.\"  The y-axis should be labeled Response and each box plot should indicate which treatment is being plotted.\n",
    "\n",
    "The second should give four box plots, the first showing responses for treatment A and condition 1, the second showing responses for treatment B and condition 1, the third showing responses for treatment A and condition 2, and the fourth showing responses for treatment B and condition 2.  Give the graphic a title of \"Responses by treatment and condition.\"  The y-axis should be labeled Response and each box plot should indicate which treatment is being plotted.\n",
    "\n",
    "You should see that treatment A appears to give the higher responses in the first graphic but treatment B appears to give the higher responses when comparing treatments for each condition separately.  This is an example of Simpson's paradox.\n",
    "\n",
    "You can read more about Simpon's paradox at https://en.wikipedia.org/wiki/Simpson%27s_paradox."
   ]
  },
  {
   "cell_type": "code",
   "execution_count": null,
   "metadata": {},
   "outputs": [],
   "source": [
    "#Place solution to problem 2 here.\n",
    "trtmntData = [['B', 1, 1.5040334155413], \n",
    "['B', 1, 2.07213309296445], \n",
    "['A', 1, 1.22844818839562], \n",
    "['B', 2, 6.34341584293506], \n",
    "['A', 2, 5.8120328930549], \n",
    "['A', 2, 3.48966762367295], \n",
    "['A', 2, 5.18515248935605], \n",
    "['A', 2, 5.22267073020769], \n",
    "['B', 1, 3.13978617410848], \n",
    "['B', 2, 8.31950284637504], \n",
    "['A', 1, 1.21200729277061], \n",
    "['B', 1, 2.11359346466117], \n",
    "['A', 2, 6.8138272808647], \n",
    "['B', 1, 1.93332740037009], \n",
    "['A', 2, 5.83851888958696], \n",
    "['B', 1, 2.71653621939729], \n",
    "['B', 1, 1.29688960047928], \n",
    "['A', 2, 5.08387886961291], \n",
    "['B', 1, 2.4203525019321], \n",
    "['B', 1, 2.79159008915357], \n",
    "['B', 1, 1.20906455070783], \n",
    "['B', 1, 1.43573062084224], \n",
    "['B', 1, 4.13317957115044], \n",
    "['A', 2, 5.87310102705918], \n",
    "['A', 2, 6.26365569321677], \n",
    "['B', 2, 8.36814938033026], \n",
    "['A', 2, 5.073085570904], \n",
    "['B', 1, 2.55329197918005], \n",
    "['A', 2, 3.72617079876069], \n",
    "['A', 2, 4.93218294107319], \n",
    "['A', 2, 4.79242513713836], \n",
    "['A', 2, 4.32768612207488], \n",
    "['B', 2, 8.56886611491952], \n",
    "['A', 2, 5.95851154092506], \n",
    "['B', 2, 5.9493575835461], \n",
    "['A', 2, 4.51997999137719], \n",
    "['A', 2, 5.68668926375325], \n",
    "['B', 1, 1.62548522892076], \n",
    "['B', 1, 2.63176687968774], \n",
    "['A', 2, 4.20880981396955], \n",
    "['B', 2, 8.43988010713427], \n",
    "['A', 2, 4.76577260370644], \n",
    "['A', 2, 5.78693772588063], \n",
    "['A', 2, 4.97593701461781], \n",
    "['A', 2, 4.48903547684768], \n",
    "['A', 1, 1.07188777971759], \n",
    "['B', 2, 6.63220808101405], \n",
    "['A', 1, -1.35358034346555], \n",
    "['B', 1, 0.938444772567496], \n",
    "['B', 1, 2.23298102620458], \n",
    "['B', 1, 0.541898064890203], \n",
    "['A', 2, 4.09407568524286], \n",
    "['A', 2, 4.21103038578532], \n",
    "['B', 2, 7.19088253873897], \n",
    "['A', 2, 4.05827412251384], \n",
    "['B', 1, 2.1767197257349], \n",
    "['A', 2, 6.73628315838634], \n",
    "['B', 1, 2.77640520326966], \n",
    "['B', 1, 2.13837173435207], \n",
    "['A', 2, 6.65885020782424], \n",
    "['A', 1, -0.00280655005795263], \n",
    "['A', 1, 0.560251005044132], \n",
    "['A', 2, 4.86944322967821], \n",
    "['B', 1, 1.7965365161093], \n",
    "['B', 1, 1.86729187335765], \n",
    "['A', 2, 5.1413678962878], \n",
    "['B', 1, 2.87838798393921], \n",
    "['A', 2, 4.79492262556653], \n",
    "['B', 1, 0.906899983218131], \n",
    "['A', 1, 0.543851762958475], \n",
    "['B', 1, 3.3121796196487], \n",
    "['A', 2, 5.76091504670061], \n",
    "['A', 2, 5.63758249060629], \n",
    "['B', 1, 1.34715541474642], \n",
    "['B', 2, 6.01083102044091], \n",
    "['A', 2, 4.91738902260785], \n",
    "['B', 1, 2.26960408104753], \n",
    "['B', 1, 1.28249664191051], \n",
    "['B', 1, 1.90954308601385], \n",
    "['B', 1, 3.78269754133941], \n",
    "['B', 1, 0.62369828849778], \n",
    "['B', 1, 1.05286264186511], \n",
    "['A', 2, 3.80280937979401], \n",
    "['A', 2, 4.54508441068899], \n",
    "['B', 2, 7.42024023965493], \n",
    "['A', 2, 5.35659388290467], \n",
    "['B', 1, 1.94312104336177], \n",
    "['A', 2, 4.02787577795004], \n",
    "['A', 1, -0.305133519493706], \n",
    "['B', 1, 2.81869416330105], \n",
    "['B', 1, 2.79734357230537], \n",
    "['A', 2, 3.54255573648603], \n",
    "['A', 1, -1.43147917416931], \n",
    "['B', 1, 1.08166569039714], \n",
    "['A', 2, 4.3283446240164], \n",
    "['A', 2, 4.53865840525218], \n",
    "['B', 1, 2.95096764105013], \n",
    "['B', 1, 3.38183394119901], \n",
    "['A', 1, 1.07669899388167], \n",
    "['B', 1, 1.52509732216181]]\n"
   ]
  },
  {
   "cell_type": "markdown",
   "metadata": {},
   "source": [
    "3\\. Relational databases are ubiquitous in the world of data.  They are typically made up of many files.  Each file or data set has a column called a primary key.  That key is unique for each row of data.  This is a lot like dictionaries.  Below are two dictionaries representing data files.  The first has a primary key of business name with the contact name and contact phone number for each business.  The second has a primary key of product type with the businesses that produce that product.\n",
    "\n",
    "For this exercise you are asked to write code that can produce information for a user from the data.  First, ask a user for a business name.  Then print the business name, contact name, contact number and all products the business produces.\n",
    "\n",
    "Second, as a user for a product type and print each business name, contact name, contact number for all businesses that produce the product.  Use a separate line for each business.\n",
    "\n",
    "Remember that your code should work for any two dictionaries with these structures.\n",
    "\n",
    "For more reading on relational databases you can look at https://en.wikipedia.org/wiki/Relational_database."
   ]
  },
  {
   "cell_type": "code",
   "execution_count": 68,
   "metadata": {},
   "outputs": [
    {
     "name": "stdout",
     "output_type": "stream",
     "text": [
      "Please enter a business name: Monke\n",
      "T\n"
     ]
    }
   ],
   "source": [
    "def get_business_info(businesses, products, business_name):\n",
    "    info = {}\n",
    "    products_provided = []\n",
    "    \n",
    "    if business_name in businesses.keys():         # Makes dict of contact info for specified company\n",
    "        info[\"Name\"] = business_name\n",
    "        info[\"Contact Name\"] = businesses.get(business_name)[0]\n",
    "        info[\"Contact Number\"] = businesses.get(business_name)[1]\n",
    "        for x in products:                         # Makes list of products sold\n",
    "            if business_name in products.get(x):\n",
    "                products_provided.append(x)\n",
    "        return (info, products_provided)\n",
    "    else:\n",
    "        return [\"This business does not exist.\"]\n",
    "    # note that if the business exists, get_business_info() returns a tuple of length == 2,\n",
    "    # whereas if it does not exist it returns a list of length == 1\n",
    "\n",
    "def print_information(business_info, business_products):\n",
    "    print(\"The business known as {0} may be reached at {1} by asking for {2}.\".format(\n",
    "    business_info.get(\"Name\"), business_info.get(\"Contact Number\"), business_info.get(\"Contact Name\"))\n",
    "    , \"They provide the following services:\")\n",
    "\n",
    "    for x in business_products:\n",
    "        print(\"• {0}\".format(x))\n",
    "        \n",
    "businesses = {\"Monkee\" : ('Deke', '717-1551'), \"B52\" : ('Cindy', '606-0842'), \n",
    "              \"Squeeze\" : ('Tilbrook', '853-5937'), \"Marvelette\" : ('Marvin', '294-5789'), \n",
    "              \"Tutone\" : ('Tommy', '867-5309'), \"Pickett\" : ('Wilson', '634-5789')}\n",
    "products = {\"food\" : [\"Squeeze\", \"Marvelette\"], \"shelter\" : [\"B52\", \"Pickett\"], \n",
    "            \"water\" : [\"Squeeze\", \"Marvelette\", \"Tutone\"], \"safety\" : [\"B52\", \"Monkee\", \"Squeeze\"], \n",
    "            \"transportation\" : [\"B52\", \"Monkee\", \"Tutone\"]}\n",
    "\n",
    "name = input(\"Please enter a business name: \")\n",
    "business_i_p = get_business_info(businesses, products, name)\n",
    "\n",
    "if len(business_i_p) == 2:    # uses length of get_business_info return val to determine whether business exists\n",
    "    print_information(business_i_p[0], business_i_p[1])\n",
    "else:\n",
    "    print(business_i_p[0])\n"
   ]
  }
 ],
 "metadata": {
  "kernelspec": {
   "display_name": "Python 3 (ipykernel)",
   "language": "python",
   "name": "python3"
  },
  "language_info": {
   "codemirror_mode": {
    "name": "ipython",
    "version": 3
   },
   "file_extension": ".py",
   "mimetype": "text/x-python",
   "name": "python",
   "nbconvert_exporter": "python",
   "pygments_lexer": "ipython3",
   "version": "3.10.4"
  }
 },
 "nbformat": 4,
 "nbformat_minor": 2
}
